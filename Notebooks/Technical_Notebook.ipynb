{
 "cells": [
  {
   "cell_type": "code",
   "execution_count": null,
   "metadata": {},
   "outputs": [],
   "source": [
    "### In order to see which area has better coffee, I take the seperate clean data files (with headers) for both areas\n",
    "### and perform a weighted average using pandas."
   ]
  },
  {
   "cell_type": "code",
   "execution_count": 30,
   "metadata": {},
   "outputs": [
    {
     "name": "stdout",
     "output_type": "stream",
     "text": [
      "Weighted Average for Catonsville 4.076051779935275\n"
     ]
    }
   ],
   "source": [
    "import pandas as pd\n",
    "cv = pd.read_csv(\"../Data/Clean_yelp_Cville.csv\")\n",
    "waC = np.average(cv['rating'], weights=cv['review_count']) \n",
    "print(\"Weighted Average for Catonsville\", waC)\n"
   ]
  },
  {
   "cell_type": "code",
   "execution_count": 35,
   "metadata": {},
   "outputs": [
    {
     "name": "stdout",
     "output_type": "stream",
     "text": [
      "Weighted Average for Dundalk 4.060378018900945\n"
     ]
    }
   ],
   "source": [
    "d = pd.read_csv(\"../Data/Clean_Header_yelp_Dundalk.csv\")\n",
    "waD = np.average(d['rating'], weights=d['review_count']) \n",
    "print(\"Weighted Average for Dundalk\", waD)"
   ]
  },
  {
   "cell_type": "code",
   "execution_count": 36,
   "metadata": {},
   "outputs": [
    {
     "data": {
      "text/plain": [
       "True"
      ]
     },
     "execution_count": 36,
     "metadata": {},
     "output_type": "execute_result"
    }
   ],
   "source": [
    "### Does Catonsville have better Coffee than Dundalk?\n",
    "waC > waD"
   ]
  },
  {
   "cell_type": "code",
   "execution_count": null,
   "metadata": {},
   "outputs": [],
   "source": [
    "### Who has more expensive coffee shops?\n",
    "### I am qualifying expensive coffee shops as $$ and up.\n",
    "### I created a list of Coffee Shops with more than $ in \"price\" and then create a forloop that counts the true values\n",
    "## in the list"
   ]
  },
  {
   "cell_type": "code",
   "execution_count": 81,
   "metadata": {},
   "outputs": [
    {
     "name": "stdout",
     "output_type": "stream",
     "text": [
      "Expensive Coffee Shops in Catonsville: 18\n"
     ]
    }
   ],
   "source": [
    "CFancyCoffee = pd.read_csv(\"../Data/Clean_yelp_Cville.csv\")\n",
    "CFancyCoffees = CFancyCoffee.price !=(\"$\")\n",
    "##df.count(axis='columns')\n",
    "\n",
    "c = CFancyCoffees.to_list()\n",
    "counter = int(0)\n",
    "for i in c: \n",
    "    if i == True:\n",
    "        counter += 1\n",
    "print(\"Expensive Coffee Shops in Catonsville:\",counter)"
   ]
  },
  {
   "cell_type": "code",
   "execution_count": 84,
   "metadata": {},
   "outputs": [
    {
     "name": "stdout",
     "output_type": "stream",
     "text": [
      "Expensive Coffee Shops in Dundalk: 16\n"
     ]
    }
   ],
   "source": [
    "DFancyCoffee = pd.read_csv(\"../Data/Clean_Header_yelp_Dundalk.csv\")\n",
    "DFancyCoffees = DFancyCoffee.price !=(\"$\")\n",
    "\n",
    "c = DFancyCoffees.to_list()\n",
    "counter = int(0)\n",
    "for i in c: \n",
    "    if i == True:\n",
    "        counter += 1\n",
    "print(\"Expensive Coffee Shops in Dundalk:\",counter)"
   ]
  },
  {
   "cell_type": "code",
   "execution_count": null,
   "metadata": {},
   "outputs": [],
   "source": [
    "### Catonsville has more expensive coffee shops than Dundalk. "
   ]
  }
 ],
 "metadata": {
  "kernelspec": {
   "display_name": "Python 3",
   "language": "python",
   "name": "python3"
  },
  "language_info": {
   "codemirror_mode": {
    "name": "ipython",
    "version": 3
   },
   "file_extension": ".py",
   "mimetype": "text/x-python",
   "name": "python",
   "nbconvert_exporter": "python",
   "pygments_lexer": "ipython3",
   "version": "3.8.3"
  }
 },
 "nbformat": 4,
 "nbformat_minor": 4
}
