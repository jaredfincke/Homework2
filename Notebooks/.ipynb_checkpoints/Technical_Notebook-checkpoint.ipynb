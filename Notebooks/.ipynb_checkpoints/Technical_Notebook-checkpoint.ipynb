{
 "cells": [
  {
   "cell_type": "markdown",
   "metadata": {},
   "source": [
    "### In order to see which area has better coffee, I take the seperate clean data files (with headers) for both areas\n",
    "### and perform a weighted average using pandas."
   ]
  },
  {
   "cell_type": "code",
   "execution_count": 30,
   "metadata": {},
   "outputs": [
    {
     "name": "stdout",
     "output_type": "stream",
     "text": [
      "Weighted Average for Catonsville 4.076051779935275\n"
     ]
    }
   ],
   "source": [
    "import pandas as pd\n",
    "cv = pd.read_csv(\"../Data/Clean_yelp_Cville.csv\")\n",
    "waC = np.average(cv['rating'], weights=cv['review_count']) \n",
    "print(\"Weighted Average for Catonsville\", waC)\n"
   ]
  },
  {
   "cell_type": "code",
   "execution_count": 35,
   "metadata": {},
   "outputs": [
    {
     "name": "stdout",
     "output_type": "stream",
     "text": [
      "Weighted Average for Dundalk 4.060378018900945\n"
     ]
    }
   ],
   "source": [
    "d = pd.read_csv(\"../Data/Clean_Header_yelp_Dundalk.csv\")\n",
    "waD = np.average(d['rating'], weights=d['review_count']) \n",
    "print(\"Weighted Average for Dundalk\", waD)"
   ]
  },
  {
   "cell_type": "code",
   "execution_count": 36,
   "metadata": {},
   "outputs": [
    {
     "data": {
      "text/plain": [
       "True"
      ]
     },
     "execution_count": 36,
     "metadata": {},
     "output_type": "execute_result"
    }
   ],
   "source": [
    "### Does Catonsville have better Coffee than Dundalk?\n",
    "waC > waD"
   ]
  },
  {
   "cell_type": "markdown",
   "metadata": {},
   "source": [
    "### Who has more expensive coffee shops?\n",
    "### I am qualifying expensive coffee shops as \"$$\" and up\n",
    "### I created a list of Coffee Shops with more than $ in \"price\" and then create a forloop that counts the true values in the list"
   ]
  },
  {
   "cell_type": "code",
   "execution_count": 81,
   "metadata": {},
   "outputs": [
    {
     "name": "stdout",
     "output_type": "stream",
     "text": [
      "Expensive Coffee Shops in Catonsville: 18\n"
     ]
    }
   ],
   "source": [
    "CFancyCoffee = pd.read_csv(\"../Data/Clean_yelp_Cville.csv\")\n",
    "CFancyCoffees = CFancyCoffee.price !=(\"$\")\n",
    "\n",
    "c = CFancyCoffees.to_list()\n",
    "counter = int(0)\n",
    "for i in c: \n",
    "    if i == True:\n",
    "        counter += 1\n",
    "print(\"Expensive Coffee Shops in Catonsville:\",counter)"
   ]
  },
  {
   "cell_type": "code",
   "execution_count": 84,
   "metadata": {},
   "outputs": [
    {
     "name": "stdout",
     "output_type": "stream",
     "text": [
      "Expensive Coffee Shops in Dundalk: 16\n"
     ]
    }
   ],
   "source": [
    "DFancyCoffee = pd.read_csv(\"../Data/Clean_Header_yelp_Dundalk.csv\")\n",
    "DFancyCoffees = DFancyCoffee.price !=(\"$\")\n",
    "\n",
    "c = DFancyCoffees.to_list()\n",
    "counter = int(0)\n",
    "for i in c: \n",
    "    if i == True:\n",
    "        counter += 1\n",
    "print(\"Expensive Coffee Shops in Dundalk:\",counter)"
   ]
  },
  {
   "cell_type": "markdown",
   "metadata": {},
   "source": [
    "### Catonsville has more expensive coffee shops than Dundalk. "
   ]
  },
  {
   "cell_type": "markdown",
   "metadata": {},
   "source": [
    "### In order to see if more expensive coffee has better reviews, I convert my nominal values of price to values"
   ]
  },
  {
   "cell_type": "code",
   "execution_count": 133,
   "metadata": {},
   "outputs": [],
   "source": [
    "cfe  = pd.read_csv(\"../Data/Combined.csv\")\n",
    "cleanup_price = {\"price\": {\"$\": 1, \"$$\": 2, \"$$$\": 3, \"$$$$\" : 4}}"
   ]
  },
  {
   "cell_type": "code",
   "execution_count": 134,
   "metadata": {},
   "outputs": [
    {
     "data": {
      "text/plain": [
       "<matplotlib.axes._subplots.AxesSubplot at 0x11eff3fa0>"
      ]
     },
     "execution_count": 134,
     "metadata": {},
     "output_type": "execute_result"
    },
    {
     "data": {
      "image/png": "[encoded data removed]",
      "text/plain": [
       "<Figure size 432x288 with 1 Axes>"
      ]
     },
     "metadata": {
      "needs_background": "light"
     },
     "output_type": "display_data"
    }
   ],
   "source": [
    "cfe.replace(cleanup_price, inplace=True)\n",
    "cfer = cfe.groupby('price')['rating'].mean()\n",
    "cfer.plot(x = 'price', y = 'rating', color = 'green', linewidth = 3)"
   ]
  },
  {
   "cell_type": "markdown",
   "metadata": {},
   "source": [
    "### The graph shows a positive relationship between price and rating. \n",
    "### So when looking at both areas combined, it appears that higher prices is more likely to result in better coffee. "
   ]
  }
 ],
 "metadata": {
  "kernelspec": {
   "display_name": "Python 3",
   "language": "python",
   "name": "python3"
  },
  "language_info": {
   "codemirror_mode": {
    "name": "ipython",
    "version": 3
   },
   "file_extension": ".py",
   "mimetype": "text/x-python",
   "name": "python",
   "nbconvert_exporter": "python",
   "pygments_lexer": "ipython3",
   "version": "3.8.3"
  }
 },
 "nbformat": 4,
 "nbformat_minor": 4
}
