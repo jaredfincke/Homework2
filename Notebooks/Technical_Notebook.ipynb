{
 "cells": [
  {
   "cell_type": "code",
   "execution_count": 3,
   "metadata": {},
   "outputs": [
    {
     "data": {
      "text/html": [
       "<div>\n",
       "<style scoped>\n",
       "    .dataframe tbody tr th:only-of-type {\n",
       "        vertical-align: middle;\n",
       "    }\n",
       "\n",
       "    .dataframe tbody tr th {\n",
       "        vertical-align: top;\n",
       "    }\n",
       "\n",
       "    .dataframe thead th {\n",
       "        text-align: right;\n",
       "    }\n",
       "</style>\n",
       "<table border=\"1\" class=\"dataframe\">\n",
       "  <thead>\n",
       "    <tr style=\"text-align: right;\">\n",
       "      <th></th>\n",
       "      <th>name</th>\n",
       "      <th>review_count</th>\n",
       "      <th>rating</th>\n",
       "      <th>coordinates</th>\n",
       "      <th>price</th>\n",
       "      <th>location</th>\n",
       "    </tr>\n",
       "  </thead>\n",
       "  <tbody>\n",
       "    <tr>\n",
       "      <th>0</th>\n",
       "      <td>Atwater's - Catonsville</td>\n",
       "      <td>189</td>\n",
       "      <td>4.0</td>\n",
       "      <td>{'latitude': 39.27111, 'longitude': -76.73442}</td>\n",
       "      <td>$</td>\n",
       "      <td>{'address1': '815 Frederick Rd', 'address2': '...</td>\n",
       "    </tr>\n",
       "    <tr>\n",
       "      <th>1</th>\n",
       "      <td>Caffe di Roma</td>\n",
       "      <td>53</td>\n",
       "      <td>4.0</td>\n",
       "      <td>{'latitude': 39.2733157, 'longitude': -76.754301}</td>\n",
       "      <td>$</td>\n",
       "      <td>{'address1': '1719 Edmondson Ave', 'address2':...</td>\n",
       "    </tr>\n",
       "    <tr>\n",
       "      <th>2</th>\n",
       "      <td>Georgia Grace Cafe</td>\n",
       "      <td>106</td>\n",
       "      <td>4.5</td>\n",
       "      <td>{'latitude': 39.26797, 'longitude': -76.79495}</td>\n",
       "      <td>$$</td>\n",
       "      <td>{'address1': '8006 Main St', 'address2': '', '...</td>\n",
       "    </tr>\n",
       "    <tr>\n",
       "      <th>3</th>\n",
       "      <td>Starbucks</td>\n",
       "      <td>47</td>\n",
       "      <td>3.5</td>\n",
       "      <td>{'latitude': 39.283384, 'longitude': -76.754702}</td>\n",
       "      <td>$$</td>\n",
       "      <td>{'address1': '856 N Rolling Rd', 'address2': N...</td>\n",
       "    </tr>\n",
       "    <tr>\n",
       "      <th>4</th>\n",
       "      <td>Old Mill Cafe</td>\n",
       "      <td>32</td>\n",
       "      <td>4.5</td>\n",
       "      <td>{'latitude': 39.2678, 'longitude': -76.79318}</td>\n",
       "      <td>$</td>\n",
       "      <td>{'address1': '4 Frederick Rd', 'address2': Non...</td>\n",
       "    </tr>\n",
       "  </tbody>\n",
       "</table>\n",
       "</div>"
      ],
      "text/plain": [
       "                      name  review_count  rating  \\\n",
       "0  Atwater's - Catonsville           189     4.0   \n",
       "1            Caffe di Roma            53     4.0   \n",
       "2       Georgia Grace Cafe           106     4.5   \n",
       "3                Starbucks            47     3.5   \n",
       "4            Old Mill Cafe            32     4.5   \n",
       "\n",
       "                                         coordinates price  \\\n",
       "0     {'latitude': 39.27111, 'longitude': -76.73442}     $   \n",
       "1  {'latitude': 39.2733157, 'longitude': -76.754301}     $   \n",
       "2     {'latitude': 39.26797, 'longitude': -76.79495}    $$   \n",
       "3   {'latitude': 39.283384, 'longitude': -76.754702}    $$   \n",
       "4      {'latitude': 39.2678, 'longitude': -76.79318}     $   \n",
       "\n",
       "                                            location  \n",
       "0  {'address1': '815 Frederick Rd', 'address2': '...  \n",
       "1  {'address1': '1719 Edmondson Ave', 'address2':...  \n",
       "2  {'address1': '8006 Main St', 'address2': '', '...  \n",
       "3  {'address1': '856 N Rolling Rd', 'address2': N...  \n",
       "4  {'address1': '4 Frederick Rd', 'address2': Non...  "
      ]
     },
     "execution_count": 3,
     "metadata": {},
     "output_type": "execute_result"
    }
   ],
   "source": [
    "import pandas as pd\n",
    "Catonsville = pd.read_csv(\"../data/Clean_yelp_Cville.csv\")\n",
    "Dundalk = pd.read_csv(\"../data/Clean_yelp_Dundalk.csv\")\n",
    "Catonsville.head()"
   ]
  },
  {
   "cell_type": "code",
   "execution_count": null,
   "metadata": {},
   "outputs": [],
   "source": [
    "RevCv = Catonsville.groupby('yearID')['CG'].mean()\n",
    "CGpitch.plot(x = 'yearID', y = 'CG', color = 'green', linewidth = 3)"
   ]
  }
 ],
 "metadata": {
  "kernelspec": {
   "display_name": "Python 3",
   "language": "python",
   "name": "python3"
  },
  "language_info": {
   "codemirror_mode": {
    "name": "ipython",
    "version": 3
   },
   "file_extension": ".py",
   "mimetype": "text/x-python",
   "name": "python",
   "nbconvert_exporter": "python",
   "pygments_lexer": "ipython3",
   "version": "3.8.3"
  }
 },
 "nbformat": 4,
 "nbformat_minor": 4
}
